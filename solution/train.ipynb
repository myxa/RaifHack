{
 "cells": [
  {
   "cell_type": "code",
   "execution_count": 11,
   "id": "2905d117-7442-43ae-ae3e-3f6e29d98afb",
   "metadata": {},
   "outputs": [
    {
     "data": {
      "text/plain": [
       "'\\n!pip install catboost\\n!pip install xgboost\\n!pip install lightgbm\\n'"
      ]
     },
     "execution_count": 11,
     "metadata": {},
     "output_type": "execute_result"
    }
   ],
   "source": [
    "'''\n",
    "!pip install catboost\n",
    "!pip install xgboost\n",
    "!pip install lightgbm\n",
    "'''"
   ]
  },
  {
   "cell_type": "code",
   "execution_count": 2,
   "id": "9d3465d0-1136-48cb-b58a-4f01d52b03dc",
   "metadata": {},
   "outputs": [],
   "source": [
    "import numpy as np\n",
    "import pandas as pd\n",
    "from catboost import CatBoostRegressor\n",
    "import xgboost as xgb\n",
    "import lightgbm as lgb\n",
    "from sklearn.feature_selection import SelectKBest\n",
    "from sklearn.decomposition import PCA\n",
    "from sklearn.model_selection import train_test_split, fKFold\n",
    "from sklearn import ensemble"
   ]
  },
  {
   "cell_type": "code",
   "execution_count": null,
   "id": "eb7f8b67-d022-4e60-b6a4-fa69dff3c752",
   "metadata": {},
   "outputs": [],
   "source": [
    "def data_read(file, sep=None):\n",
    "    data = pd.read_csv(file, sep=sep)\n",
    "    return data\n",
    "\n",
    "def check_data_info(data):\n",
    "    nans = data.isnull().values.any()\n",
    "    descr = data.describe()\n",
    "    return nans, descr\n",
    "\n",
    "def features_label(data):\n",
    "    features = data[0:-1]\n",
    "    label = data[-1]\n",
    "    return features, label\n",
    "\n",
    "def train_test(features, label, test=None):\n",
    "    if test:\n",
    "        pass\n",
    "    else:\n",
    "        X_train, X_test, y_train, y_test = train_test_split(\n",
    "            features, label, test_size=0.33, random_state=42)\n",
    "    return X_train, X_test, y_train, y_test\n",
    "\n",
    "def kfold_cv(data, k=2):\n",
    "    kf = KFold(n_splits=k)\n",
    "    cv_clf = ensemble.GradientBoostingClassifier(**params)\n",
    "    val_scores = np.zeros((n_estimators,), dtype=np.float64)\n",
    "    for train, test in kf.split(X_train, y_train):\n",
    "        cv_clf.fit(X_train[train], y_train[train])\n",
    "        val_scores += heldout_score(cv_clf, X_train[test], y_train[test])\n",
    "    val_scores /= n_splits\n",
    "    return val_scores"
   ]
  },
  {
   "cell_type": "code",
   "execution_count": null,
   "id": "16eb0512-4c55-47b8-96e0-76b6239de17f",
   "metadata": {},
   "outputs": [],
   "source": [
    "params = {'n_estimators': 1200, 'max_depth': 3, 'subsample': 0.5,\n",
    "          'learning_rate': 0.01, 'random_state': 3}\n",
    "\n",
    "reg_ensemble = ensemble.GradientBoostingRegressor(**params)\n",
    "\n",
    "clf.fit(X_train, y_train)\n",
    "\n",
    "acc = clf.score(X_test, y_test)\n",
    "\n",
    "print(\"Accuracy: {:.4f}\".format(acc))\n"
   ]
  }
 ],
 "metadata": {
  "kernelspec": {
   "display_name": "Python 3",
   "language": "python",
   "name": "python3"
  },
  "language_info": {
   "codemirror_mode": {
    "name": "ipython",
    "version": 3
   },
   "file_extension": ".py",
   "mimetype": "text/x-python",
   "name": "python",
   "nbconvert_exporter": "python",
   "pygments_lexer": "ipython3",
   "version": "3.8.11"
  }
 },
 "nbformat": 4,
 "nbformat_minor": 5
}
